{
 "cells": [
  {
   "cell_type": "markdown",
   "metadata": {},
   "source": [
    "# 第3回課題\n",
    "matplotlib\n",
    "\n",
    "今回は [pyplot](https://matplotlib.org/3.1.1/tutorials/introductory/pyplot.html#sphx-glr-tutorials-introductory-pyplot-py) の tutorial に従えば問題ないようになっています．\n",
    "\n",
    "他のライブラリとしては，seaborn が有名だと思います．"
   ]
  },
  {
   "cell_type": "code",
   "execution_count": 4,
   "metadata": {},
   "outputs": [],
   "source": [
    "import matplotlib.pyplot as plt\n",
    "# plt.show の省略\n",
    "%matplotlib inline\n",
    "import numpy as np\n",
    "import pandas as pd"
   ]
  },
  {
   "cell_type": "code",
   "execution_count": 5,
   "metadata": {},
   "outputs": [],
   "source": [
    "# 日本語化はフォントへの path を通せばいいのですが，今回は library の力を借りましょう\n",
    "#!pip install japanize_matplotlib"
   ]
  },
  {
   "cell_type": "code",
   "execution_count": 6,
   "metadata": {},
   "outputs": [
    {
     "ename": "ModuleNotFoundError",
     "evalue": "No module named 'japanize_matplotlib'",
     "output_type": "error",
     "traceback": [
      "\u001b[1;31m---------------------------------------------------------------------------\u001b[0m",
      "\u001b[1;31mModuleNotFoundError\u001b[0m                       Traceback (most recent call last)",
      "\u001b[1;32m<ipython-input-6-6896d8764907>\u001b[0m in \u001b[0;36m<module>\u001b[1;34m\u001b[0m\n\u001b[0;32m      1\u001b[0m \u001b[1;31m# 既に日本語化できている場合は，コメントアウト\u001b[0m\u001b[1;33m\u001b[0m\u001b[1;33m\u001b[0m\u001b[1;33m\u001b[0m\u001b[0m\n\u001b[1;32m----> 2\u001b[1;33m \u001b[1;32mimport\u001b[0m \u001b[0mjapanize_matplotlib\u001b[0m \u001b[1;31m# https://github.com/uehara1414/japanize-matplotlib\u001b[0m\u001b[1;33m\u001b[0m\u001b[1;33m\u001b[0m\u001b[0m\n\u001b[0m\u001b[0;32m      3\u001b[0m '''\n\u001b[0;32m      4\u001b[0m \u001b[1;31m# 中身\u001b[0m\u001b[1;33m\u001b[0m\u001b[1;33m\u001b[0m\u001b[1;33m\u001b[0m\u001b[0m\n\u001b[0;32m      5\u001b[0m \u001b[1;32mimport\u001b[0m \u001b[0mos\u001b[0m\u001b[1;33m\u001b[0m\u001b[1;33m\u001b[0m\u001b[0m\n",
      "\u001b[1;31mModuleNotFoundError\u001b[0m: No module named 'japanize_matplotlib'"
     ]
    }
   ],
   "source": [
    "# 既に日本語化できている場合は，コメントアウト\n",
    "import japanize_matplotlib # https://github.com/uehara1414/japanize-matplotlib\n",
    "'''\n",
    "# 中身\n",
    "import os\n",
    "import pathlib\n",
    "\n",
    "import matplotlib\n",
    "from matplotlib import font_manager\n",
    "\n",
    "FONTS_DIR = 'fonts'\n",
    "FONT_NAME = \"IPAexGothic\"\n",
    "\n",
    "font_dir_path = pathlib.Path(os.path.abspath(__file__)).parent / pathlib.Path(FONTS_DIR)\n",
    "font_dirs = [font_dir_path, ]\n",
    "font_files = font_manager.findSystemFonts(fontpaths=font_dirs)\n",
    "font_list = font_manager.createFontList(font_files)\n",
    "font_manager.fontManager.ttflist.extend(font_list)\n",
    "\n",
    "matplotlib.rc('font', family=FONT_NAME)\n",
    "'''"
   ]
  },
  {
   "cell_type": "code",
   "execution_count": null,
   "metadata": {},
   "outputs": [],
   "source": [
    "# iris dataset の読み込み（第2回課題のネタバレ）\n",
    "from sklearn.datasets import load_iris\n",
    "iris_data = load_iris() #del iris_data などで不要となった変数を消すことも可能\n",
    "data, label, feature_names = iris_data[\"data\"], iris_data[\"target\"], iris_data[\"feature_names\"]\n",
    "iris_df = pd.DataFrame(data, columns=feature_names)\n",
    "label = pd.DataFrame(label, columns=[\"label\"])\n",
    "iris_df = pd.concat([iris_df, label], axis=1)\n",
    "iris_df.head()"
   ]
  },
  {
   "cell_type": "markdown",
   "metadata": {},
   "source": [
    "## hist"
   ]
  },
  {
   "cell_type": "markdown",
   "metadata": {},
   "source": [
    "### 課題1\n",
    "sepal length (cm) について，histogram を作る（bins をいじるなどしてよい）．\n",
    "```\n",
    "plt.hist\n",
    "```"
   ]
  },
  {
   "cell_type": "code",
   "execution_count": 8,
   "metadata": {},
   "outputs": [
    {
     "name": "stdout",
     "output_type": "stream",
     "text": [
      "<class 'pandas.core.frame.DataFrame'>\n",
      "RangeIndex: 150 entries, 0 to 149\n",
      "Data columns (total 5 columns):\n",
      " #   Column             Non-Null Count  Dtype  \n",
      "---  ------             --------------  -----  \n",
      " 0   sepal length (cm)  150 non-null    float64\n",
      " 1   sepal width (cm)   150 non-null    float64\n",
      " 2   petal length (cm)  150 non-null    float64\n",
      " 3   petal width (cm)   150 non-null    float64\n",
      " 4   label              150 non-null    int32  \n",
      "dtypes: float64(4), int32(1)\n",
      "memory usage: 5.4 KB\n"
     ]
    },
    {
     "data": {
      "image/png": "[encoded data removed]",
      "text/plain": [
       "<Figure size 432x288 with 1 Axes>"
      ]
     },
     "metadata": {
      "needs_background": "light"
     },
     "output_type": "display_data"
    }
   ],
   "source": [
    "import matplotlib.pyplot as plt\n",
    "# plt.show の省略\n",
    "%matplotlib inline\n",
    "import numpy as np\n",
    "import pandas as pd\n",
    "\n",
    "from sklearn.datasets import load_iris\n",
    "iris_data = load_iris() #del iris_data などで不要となった変数を消すことも可能\n",
    "data, label, feature_names = iris_data[\"data\"], iris_data[\"target\"], iris_data[\"feature_names\"]\n",
    "iris_df = pd.DataFrame(data, columns=feature_names)\n",
    "label = pd.DataFrame(label, columns=[\"label\"])\n",
    "iris_df = pd.concat([iris_df, label], axis=1)\n",
    "iris_df.head()\n",
    "\n",
    "iris_df.info()\n",
    "\n",
    "plt.hist(iris_df[\"petal length (cm)\"])\n",
    "plt.show()"
   ]
  },
  {
   "cell_type": "markdown",
   "metadata": {},
   "source": [
    "### 課題2\n",
    "課題1の graph に label を付け，判例を付与．さらに，title を fontsize 18 で追加（できれば xlabel, ylabel もやってほしいが）．\n",
    "```\n",
    "#plt.figure\n",
    "plt.hist\n",
    "#plt.xlabel\n",
    "#plt.ylabel\n",
    "plt.title\n",
    "plt.legend\n",
    "```"
   ]
  },
  {
   "cell_type": "code",
   "execution_count": 9,
   "metadata": {},
   "outputs": [
    {
     "data": {
      "image/png": "[encoded data removed]",
      "text/plain": [
       "<Figure size 432x288 with 1 Axes>"
      ]
     },
     "metadata": {
      "needs_background": "light"
     },
     "output_type": "display_data"
    }
   ],
   "source": [
    "plt.title('sepal length',loc='left',fontsize=18)\n",
    "\n",
    "plt.hist(iris_df[\"petal length (cm)\"],label=\"sepal length\")\n",
    "plt.legend(loc='upper left',fontsize=13)\n",
    "plt.xlabel(\"number\", fontsize=15)  \n",
    "plt.ylabel(\"sepal length (cm)\", fontsize=15)   \n",
    "\n",
    "plt.show()"
   ]
  },
  {
   "cell_type": "markdown",
   "metadata": {},
   "source": [
    "### 発展課題１\n",
    "fontsize を backend([rcParams](https://matplotlib.org/3.2.1/api/matplotlib_configuration_api.html#matplotlib.RcParams))で設定\n",
    "```\n",
    "plt.rcParams\n",
    "#plt.figure\n",
    "plt.hist\n",
    "#plt.xlabel\n",
    "#plt.ylabel\n",
    "plt.title\n",
    "plt.legend\n",
    "```"
   ]
  },
  {
   "cell_type": "code",
   "execution_count": 16,
   "metadata": {},
   "outputs": [
    {
     "data": {
      "image/png": "[encoded data removed]",
      "text/plain": [
       "<Figure size 432x288 with 1 Axes>"
      ]
     },
     "metadata": {
      "needs_background": "light"
     },
     "output_type": "display_data"
    }
   ],
   "source": [
    "plt.rcParams[\"font.size\"] = 10\n",
    "plt.hist(iris_df[\"petal length (cm)\"],label=\"sepal length\")\n",
    "plt.xlabel(\"number\")  \n",
    "plt.ylabel(\"sepal length (cm)\")  \n",
    "plt.title('sepal length',loc='left')\n",
    "plt.legend(loc='upper left')\n",
    "\n",
    "plt.show()"
   ]
  },
  {
   "cell_type": "markdown",
   "metadata": {},
   "source": [
    "### 発展課題2\n",
    "1行2列で可視化しよう（subplot の使用）\n",
    "```\n",
    "plt.rcParams\n",
    "#plt.figure\n",
    "plt.hist\n",
    "#plt.xlabel\n",
    "#plt.ylabel\n",
    "plt.title\n",
    "plt.legend\n",
    "```"
   ]
  },
  {
   "cell_type": "code",
   "execution_count": null,
   "metadata": {},
   "outputs": [],
   "source": [
    "fig = plt.figure()\n",
    "\n",
    "plt.rcParams[\"font.size\"] = 14  \n",
    "plt.hist(iris_df[\"petal length (cm)\"],label=\"sepal length\")\n",
    "plt.xlabel(\"number\")  \n",
    "plt.ylabel(\"sepal length (cm)\")  \n",
    "plt.title('sepal length',loc='left')\n",
    "plt.legend(loc='upper left')\n",
    "\n",
    "plt.show()"
   ]
  },
  {
   "cell_type": "markdown",
   "metadata": {},
   "source": [
    "## scatter"
   ]
  },
  {
   "cell_type": "markdown",
   "metadata": {},
   "source": [
    "### 課題3\n",
    "scatter を用いて，横を sepal width，縦を sepal length とする点を表示\n",
    "```\n",
    "plt.scatter\n",
    "```"
   ]
  },
  {
   "cell_type": "code",
   "execution_count": null,
   "metadata": {},
   "outputs": [],
   "source": []
  },
  {
   "cell_type": "markdown",
   "metadata": {},
   "source": [
    "### 課題4\n",
    "課題3の図に，横を petal width，縦を petal length とする緑色の点を追加で表示\n",
    "```\n",
    "plt.scatter\n",
    "plt.scatter\n",
    "```"
   ]
  },
  {
   "cell_type": "code",
   "execution_count": null,
   "metadata": {},
   "outputs": [],
   "source": []
  },
  {
   "cell_type": "markdown",
   "metadata": {},
   "source": [
    "## plot\n",
    "`y = x**2` の直線を plot\n",
    "\n",
    "```[python]\n",
    "x = np.linspace(0, 100, 10**5)\n",
    "plt.\n",
    "```"
   ]
  },
  {
   "cell_type": "code",
   "execution_count": 17,
   "metadata": {},
   "outputs": [
    {
     "data": {
      "image/png": "[encoded data removed]",
      "text/plain": [
       "<Figure size 432x288 with 1 Axes>"
      ]
     },
     "metadata": {
      "needs_background": "light"
     },
     "output_type": "display_data"
    }
   ],
   "source": [
    "x = np.linspace(0, 100, 10**5)\n",
    "y = x * x\n",
    "plt.plot(x, y)\n",
    "\n",
    "plt.show()"
   ]
  },
  {
   "cell_type": "code",
   "execution_count": null,
   "metadata": {},
   "outputs": [],
   "source": []
  }
 ],
 "metadata": {
  "anaconda-cloud": {},
  "kernelspec": {
   "display_name": "Python 3",
   "language": "python",
   "name": "python3"
  }
 },
 "nbformat": 4,
 "nbformat_minor": 2
}
